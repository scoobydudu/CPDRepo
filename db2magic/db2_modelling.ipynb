{
 "cells": [
  {
   "cell_type": "markdown",
   "id": "bafb6a34-cccc-43df-9f0b-b5e672c01b5e",
   "metadata": {
    "id": "a4680d7a-b61d-4342-a2af-dd032c533d76"
   },
   "source": [
    "# Loading DB2 Magic Library"
   ]
  },
  {
   "cell_type": "code",
   "execution_count": 1,
   "id": "67a36ab5-9f3e-456d-8da6-d9b4d6ab2289",
   "metadata": {
    "id": "d2985f85-d7d1-4181-baf8-a535c92b317b",
    "tags": []
   },
   "outputs": [
    {
     "name": "stdout",
     "output_type": "stream",
     "text": [
      "--2022-12-16 01:56:50--  https://raw.githubusercontent.com/IBM/db2-jupyter/master/db2.ipynb\n",
      "Resolving raw.githubusercontent.com (raw.githubusercontent.com)... 185.199.108.133, 185.199.109.133, 185.199.110.133, ...\n",
      "Connecting to raw.githubusercontent.com (raw.githubusercontent.com)|185.199.108.133|:443... connected.\n",
      "HTTP request sent, awaiting response... 200 OK\n",
      "Length: 130924 (128K) [text/plain]\n",
      "Saving to: ‘db2.ipynb’\n",
      "\n",
      "db2.ipynb           100%[===================>] 127.86K  --.-KB/s    in 0s      \n",
      "\n",
      "2022-12-16 01:56:50 (387 MB/s) - ‘db2.ipynb’ saved [130924/130924]\n",
      "\n",
      "Warning: QGRID is unavailable for displaying results in scrollable windows.\n",
      "         Install QGRID if you want to enable scrolling of result sets.\n",
      "Db2 Extensions Loaded.\n"
     ]
    }
   ],
   "source": [
    "!wget https://raw.githubusercontent.com/IBM/db2-jupyter/master/db2.ipynb\n",
    "%run db2.ipynb"
   ]
  },
  {
   "cell_type": "markdown",
   "id": "b32faed5-6d32-4dcb-902d-10ad664ec697",
   "metadata": {
    "id": "4282788a-e629-4379-a223-3bcfb7d2ccab"
   },
   "source": [
    "# Connect to DB2"
   ]
  },
  {
   "cell_type": "code",
   "execution_count": 3,
   "id": "45b8f45e-21f4-471e-b3b5-f5b5ea83e135",
   "metadata": {
    "id": "45b8f45e-21f4-471e-b3b5-f5b5ea83e135",
    "tags": []
   },
   "outputs": [
    {
     "name": "stdout",
     "output_type": "stream",
     "text": [
      "Connection successful.\n"
     ]
    }
   ],
   "source": [
    "%sql connect to db2ml host 35.172.245.247 port 32403 user db2inst1 using ?"
   ]
  },
  {
   "cell_type": "markdown",
   "id": "b059faac-e70d-4a6d-a1bb-8d402f79d474",
   "metadata": {
    "id": "e09d9761-04ec-4dc6-847a-0bc6919dae2a"
   },
   "source": [
    "# Train a linear regression model"
   ]
  },
  {
   "cell_type": "code",
   "execution_count": 18,
   "id": "79036f61-5169-42e8-945e-6e9ce2ac0b93",
   "metadata": {
    "id": "79036f61-5169-42e8-945e-6e9ce2ac0b93",
    "tags": []
   },
   "outputs": [
    {
     "name": "stdout",
     "output_type": "stream",
     "text": [
      "b'gASVSAEAAAAAAACMGnNrbGVhcm4ubGluZWFyX21vZGVsLl9iYXNllIwQTGluZWFyUmVncmVzc2lvbpSTlCmBlH2UKIwNZml0X2ludGVyY2VwdJSIjAlub3JtYWxpemWUjApkZXByZWNhdGVklIwGY29weV9YlIiMBm5fam9ic5ROjAhwb3NpdGl2ZZSJjA5uX2ZlYXR1cmVzX2luX5RLBIwFY29lZl+UjBNqb2JsaWIubnVtcHlfcGlja2xllIwRTnVtcHlBcnJheVdyYXBwZXKUk5QpgZR9lCiMCHN1YmNsYXNzlIwFbnVtcHmUjAduZGFycmF5lJOUjAVzaGFwZZRLBIWUjAVvcmRlcpSMAUOUjAVkdHlwZZRoE2gak5SMAmY4lImIh5RSlChLA4wBPJROTk5K/////0r/////SwB0lGKMCmFsbG93X21tYXCUiHVi6snYrtylvL9Y8XhnTIWkv/jvMoE9RM0/5OPuKf5+4z+VNQAAAAAAAACMBXJhbmtflEsEjAlzaW5ndWxhcl+UaA8pgZR9lChoEmgVaBZLBIWUaBhoGWgaaB5oIYh1YsoS7gGXGTlACy3kgXYNGEAujILLN08LQCLBRR8CJ/4/lV8AAAAAAAAAjAppbnRlcmNlcHRflIwVbnVtcHkuY29yZS5tdWx0aWFycmF5lIwGc2NhbGFylJOUaB5DCIAdzoUT38c/lIaUUpSMEF9za2xlYXJuX3ZlcnNpb26UjAUxLjEuMZR1Yi4='\n"
     ]
    }
   ],
   "source": [
    "from sklearn.linear_model import LinearRegression\n",
    "from sklearn import datasets\n",
    "import joblib\n",
    "import base64\n",
    "train = datasets.load_iris().get(\"data\")\n",
    "target = datasets.load_iris().get(\"target\")\n",
    "lr = LinearRegression()\n",
    "lr = lr.fit(train, target)\n",
    "joblib.dump(lr, \"linear.joblib\")\n",
    "with open(\"linear.joblib\", \"rb\") as file:\n",
    "    file =  file.read()\n",
    "    b64model = base64.b64encode(file)\n",
    "    print(b64model)\n",
    "with open(\"linearmodel.b64\", \"wb\") as file:\n",
    "    file.write(b64model)"
   ]
  },
  {
   "cell_type": "code",
   "execution_count": 19,
   "id": "1129df68-ae36-4605-9f8a-5c27720e248f",
   "metadata": {
    "id": "1129df68-ae36-4605-9f8a-5c27720e248f",
    "tags": []
   },
   "outputs": [
    {
     "name": "stdout",
     "output_type": "stream",
     "text": [
      "Command completed.\n"
     ]
    }
   ],
   "source": [
    "%sql create table models(id integer not null generated always as identity, name varchar(30), model clob, primary key(id))"
   ]
  },
  {
   "cell_type": "code",
   "execution_count": 20,
   "id": "cf2c01d7-53b6-47be-b522-20327fbf1729",
   "metadata": {
    "id": "cf2c01d7-53b6-47be-b522-20327fbf1729",
    "tags": []
   },
   "outputs": [
    {
     "name": "stdout",
     "output_type": "stream",
     "text": [
      "Command completed.\n"
     ]
    }
   ],
   "source": [
    "%sql insert into models (name, model) values('iris_linear', 'gANjc2tsZWFybi5saW5lYXJfbW9kZWwuX2Jhc2UKTGluZWFyUmVncmVzc2lvbgpxACmBcQF9cQIoWA0AAABmaXRfaW50ZXJjZXB0cQOIWAkAAABub3JtYWxpemVxBFgKAAAAZGVwcmVjYXRlZHEFWAYAAABjb3B5X1hxBohYBgAAAG5fam9ic3EHTlgIAAAAcG9zaXRpdmVxCIlYDgAAAG5fZmVhdHVyZXNfaW5fcQlLBFgFAAAAY29lZl9xCmNqb2JsaWIubnVtcHlfcGlja2xlCk51bXB5QXJyYXlXcmFwcGVyCnELKYFxDH1xDShYCAAAAHN1YmNsYXNzcQ5jbnVtcHkKbmRhcnJheQpxD1gFAAAAc2hhcGVxEEsEhXERWAUAAABvcmRlcnESWAEAAABDcRNYBQAAAGR0eXBlcRRjbnVtcHkKZHR5cGUKcRVYAgAAAGY4cRaJiIdxF1JxGChLA1gBAAAAPHEZTk5OSv////9K/////0sAdHEaYlgKAAAAYWxsb3dfbW1hcHEbiHVi68nYrtylvL9Y8XhnTIWkv/rvMoE9RM0/5OPuKf5+4z9YCQAAAF9yZXNpZHVlc3EcY251bXB5LmNvcmUubXVsdGlhcnJheQpzY2FsYXIKcR1oGEMIKlAuk6nXG0BxHoZxH1JxIFgFAAAAcmFua19xIUsEWAkAAABzaW5ndWxhcl9xImgLKYFxI31xJChoDmgPaBBLBIVxJWgSaBNoFGgYaBuIdWLKEu4Blxk5QAwt5IF2DRhALIyCyzdPC0AlwUUfAif+P1gKAAAAaW50ZXJjZXB0X3EmaB1oGEMIfB3OhRPfxz9xJ4ZxKFJxKVgQAAAAX3NrbGVhcm5fdmVyc2lvbnEqWAUAAAAxLjAuMnErdWIu')"
   ]
  },
  {
   "cell_type": "code",
   "execution_count": 21,
   "id": "9042a645-b3bc-42e0-995a-c4f248a9d419",
   "metadata": {
    "id": "9042a645-b3bc-42e0-995a-c4f248a9d419",
    "tags": []
   },
   "outputs": [
    {
     "data": {
      "text/html": [
       "<div>\n",
       "<style scoped>\n",
       "    .dataframe tbody tr th:only-of-type {\n",
       "        vertical-align: middle;\n",
       "    }\n",
       "\n",
       "    .dataframe tbody tr th {\n",
       "        vertical-align: top;\n",
       "    }\n",
       "\n",
       "    .dataframe thead th {\n",
       "        text-align: right;\n",
       "    }\n",
       "</style>\n",
       "<table border=\"1\" class=\"dataframe\">\n",
       "  <thead>\n",
       "    <tr style=\"text-align: right;\">\n",
       "      <th></th>\n",
       "      <th>ID</th>\n",
       "      <th>NAME</th>\n",
       "      <th>MODEL</th>\n",
       "    </tr>\n",
       "  </thead>\n",
       "  <tbody>\n",
       "    <tr>\n",
       "      <th>0</th>\n",
       "      <td>1</td>\n",
       "      <td>iris_linear</td>\n",
       "      <td>gANjc2tsZWFybi5saW5lYXJfbW9kZWwuX2Jhc2UKTGluZW...</td>\n",
       "    </tr>\n",
       "  </tbody>\n",
       "</table>\n",
       "</div>"
      ],
      "text/plain": [
       "   ID         NAME                                              MODEL\n",
       "0   1  iris_linear  gANjc2tsZWFybi5saW5lYXJfbW9kZWwuX2Jhc2UKTGluZW..."
      ]
     },
     "execution_count": 21,
     "metadata": {},
     "output_type": "execute_result"
    }
   ],
   "source": [
    "%sql select * from models"
   ]
  },
  {
   "cell_type": "markdown",
   "id": "8e04e604-77bc-42e6-9965-a373e4ccaefd",
   "metadata": {
    "id": "29129029-73c2-49aa-a8a3-59a47e8b67dc"
   },
   "source": [
    "# Create a function for model scoring"
   ]
  },
  {
   "cell_type": "code",
   "execution_count": 27,
   "id": "ee95ff8b-395c-4bca-8f99-8f746ff0439e",
   "metadata": {
    "id": "ee95ff8b-395c-4bca-8f99-8f746ff0439e",
    "tags": []
   },
   "outputs": [
    {
     "name": "stdout",
     "output_type": "stream",
     "text": [
      "Command completed.\n"
     ]
    }
   ],
   "source": [
    "%sql CREATE FUNCTION iris_linear(varchar(1356), float, float, float, float) \\\n",
    "returns float LANGUAGE PYTHON  parameter style \\\n",
    "NPSGENERIC  FENCED  NOT THREADSAFE  NO FINAL CALL  ALLOW PARALLEL  NO DBINFO  DETERMINISTIC  NO EXTERNAL ACTION \\\n",
    "RETURNS NULL ON NULL INPUT  NO SQL \\\n",
    "external name '/home/functions/score.py' "
   ]
  },
  {
   "cell_type": "markdown",
   "id": "9281d6f4-c486-4676-a703-b1404d5d47b9",
   "metadata": {
    "id": "c1d7d6ae-d1a9-41ca-9d56-8f52f3b1054d"
   },
   "source": [
    "# Create test data for scoring"
   ]
  },
  {
   "cell_type": "code",
   "execution_count": 23,
   "id": "032ca7ec-5823-4b2d-b004-1561e40f3e38",
   "metadata": {
    "id": "032ca7ec-5823-4b2d-b004-1561e40f3e38",
    "tags": []
   },
   "outputs": [
    {
     "name": "stdout",
     "output_type": "stream",
     "text": [
      "Command completed.\n"
     ]
    }
   ],
   "source": [
    "%sql CREATE TABLE iris(sepal_length float,sepal_width float,petal_length float,petal_width float,iris varchar(255));"
   ]
  },
  {
   "cell_type": "code",
   "execution_count": 24,
   "id": "27d0ed1f-958d-4b07-9108-05906285af03",
   "metadata": {
    "id": "27d0ed1f-958d-4b07-9108-05906285af03",
    "tags": []
   },
   "outputs": [
    {
     "name": "stdout",
     "output_type": "stream",
     "text": [
      "Command completed.\n"
     ]
    }
   ],
   "source": [
    "%sql INSERT INTO iris \\\n",
    "VALUES \\\n",
    "(5.1,3.5,1.4,0.2,'setosa'), \\\n",
    "(4.9,3,1.4,0.2,'setosa'), \\\n",
    "(4.7,3.2,1.3,0.2,'setosa'), \\\n",
    "(4.6,3.1,1.5,0.2,'setosa'), \\\n",
    "(5,3.6,1.4,0.2,'setosa'), \\\n",
    "(5.4,3.9,1.7,0.4,'setosa'), \\\n",
    "(4.6,3.4,1.4,0.3,'setosa')"
   ]
  },
  {
   "cell_type": "markdown",
   "id": "6d8314a6-c10d-47f2-8b9b-4b8967af50c2",
   "metadata": {
    "id": "56a5cd74-a6ce-4195-b7fd-6fb8b2c2b59e"
   },
   "source": [
    "# Call the function to score the model with new payload"
   ]
  },
  {
   "cell_type": "code",
   "execution_count": 28,
   "id": "7684015f-0c53-4e50-bb06-23d5a5984ac8",
   "metadata": {
    "id": "7684015f-0c53-4e50-bb06-23d5a5984ac8",
    "tags": []
   },
   "outputs": [
    {
     "data": {
      "text/html": [
       "<div>\n",
       "<style scoped>\n",
       "    .dataframe tbody tr th:only-of-type {\n",
       "        vertical-align: middle;\n",
       "    }\n",
       "\n",
       "    .dataframe tbody tr th {\n",
       "        vertical-align: top;\n",
       "    }\n",
       "\n",
       "    .dataframe thead th {\n",
       "        text-align: right;\n",
       "    }\n",
       "</style>\n",
       "<table border=\"1\" class=\"dataframe\">\n",
       "  <thead>\n",
       "    <tr style=\"text-align: right;\">\n",
       "      <th></th>\n",
       "      <th>1</th>\n",
       "    </tr>\n",
       "  </thead>\n",
       "  <tbody>\n",
       "    <tr>\n",
       "      <th>0</th>\n",
       "      <td>-0.082549</td>\n",
       "    </tr>\n",
       "    <tr>\n",
       "      <th>1</th>\n",
       "      <td>-0.040128</td>\n",
       "    </tr>\n",
       "    <tr>\n",
       "      <th>2</th>\n",
       "      <td>-0.048628</td>\n",
       "    </tr>\n",
       "    <tr>\n",
       "      <th>3</th>\n",
       "      <td>0.012300</td>\n",
       "    </tr>\n",
       "    <tr>\n",
       "      <th>4</th>\n",
       "      <td>-0.075367</td>\n",
       "    </tr>\n",
       "    <tr>\n",
       "      <th>5</th>\n",
       "      <td>0.058291</td>\n",
       "    </tr>\n",
       "    <tr>\n",
       "      <th>6</th>\n",
       "      <td>0.038337</td>\n",
       "    </tr>\n",
       "  </tbody>\n",
       "</table>\n",
       "</div>"
      ],
      "text/plain": [
       "          1\n",
       "0 -0.082549\n",
       "1 -0.040128\n",
       "2 -0.048628\n",
       "3  0.012300\n",
       "4 -0.075367\n",
       "5  0.058291\n",
       "6  0.038337"
      ]
     },
     "execution_count": 28,
     "metadata": {},
     "output_type": "execute_result"
    }
   ],
   "source": [
    "%sql with input (model, sepal_length, sepal_width, petal_length, petal_width) as \\\n",
    "(select varchar(models.model), iris.sepal_length, iris.sepal_width, iris.petal_length, iris.petal_width \\\n",
    "from models, iris \\\n",
    "where models.id =(select id from models where name='iris_linear')) \\\n",
    "select iris_linear(varchar(model), float(sepal_length), float(sepal_width), float(petal_length), float(petal_width) ) from input"
   ]
  },
  {
   "cell_type": "markdown",
   "id": "e650345f-afe1-4ea3-8ed1-8d10b7df6730",
   "metadata": {
    "id": "4cf9f6f6-de5d-434a-9956-efb60b7fed38"
   },
   "source": [
    "# Traing a second model - Logistic Regresssion"
   ]
  },
  {
   "cell_type": "code",
   "execution_count": 29,
   "id": "f8052acb-af53-4cdc-a162-b1d02d24f441",
   "metadata": {
    "id": "f8052acb-af53-4cdc-a162-b1d02d24f441",
    "tags": []
   },
   "outputs": [
    {
     "name": "stdout",
     "output_type": "stream",
     "text": [
      "b'gASV4wEAAAAAAACMHnNrbGVhcm4ubGluZWFyX21vZGVsLl9sb2dpc3RpY5SMEkxvZ2lzdGljUmVncmVzc2lvbpSTlCmBlH2UKIwHcGVuYWx0eZSMAmwylIwEZHVhbJSJjAN0b2yURz8aNuLrHEMtjAFDlEc/8AAAAAAAAIwNZml0X2ludGVyY2VwdJSIjBFpbnRlcmNlcHRfc2NhbGluZ5RLAYwMY2xhc3Nfd2VpZ2h0lE6MDHJhbmRvbV9zdGF0ZZROjAZzb2x2ZXKUjAVsYmZnc5SMCG1heF9pdGVylE3oA4wLbXVsdGlfY2xhc3OUjARhdXRvlIwHdmVyYm9zZZRLAIwKd2FybV9zdGFydJSJjAZuX2pvYnOUTowIbDFfcmF0aW+UTowObl9mZWF0dXJlc19pbl+USwSMCGNsYXNzZXNflIwTam9ibGliLm51bXB5X3BpY2tsZZSMEU51bXB5QXJyYXlXcmFwcGVylJOUKYGUfZQojAhzdWJjbGFzc5SMBW51bXB5lIwHbmRhcnJheZSTlIwFc2hhcGWUSwOFlIwFb3JkZXKUaAmMBWR0eXBllGgfaCWTlIwCaTiUiYiHlFKUKEsDjAE8lE5OTkr/////Sv////9LAHSUYowKYWxsb3dfbW1hcJSIdWIAAAAAAAAAAAEAAAAAAAAAAgAAAAAAAACVSwAAAAAAAACMB25faXRlcl+UaBspgZR9lChoHmghaCJLAYWUaCRoCWglaCaMAmk0lImIh5RSlChLA2gqTk5OSv////9K/////0sAdJRiaCyIdWKEAAAAlUsAAAAAAAAAjAVjb2VmX5RoGymBlH2UKGgeaCFoIksDSwSGlGgkaAloJWgmjAJmOJSJiIeUUpQoSwNoKk5OTkr/////Sv////9LAHSUYmgsiHVibtEwXFEa279JMT85kvTuP/RnjO4cIwTAxXMjW/FE8b/XOtFzURrhP9onqpovldS/w2gVbgpryr8YMgCHtzfuv0WKxi1Gaby/Wx3qa/qp5L+hvm2VzckFQGzGUY9mMABAlSwAAAAAAAAAjAppbnRlcmNlcHRflGgbKYGUfZQoaB5oIWgiSwOFlGgkaAloJWg7aCyIdWJQSzcJ4bIjQNWnXcDa5QFAVLVOuVcsKMCVHgAAAAAAAACMEF9za2xlYXJuX3ZlcnNpb26UjAUxLjEuMZR1Yi4='\n"
     ]
    }
   ],
   "source": [
    "from sklearn.linear_model import LogisticRegression\n",
    "from sklearn import datasets\n",
    "import joblib\n",
    "import base64\n",
    "train = datasets.load_iris().get(\"data\")\n",
    "target = datasets.load_iris().get(\"target\")\n",
    "lr = LogisticRegression(max_iter=1000)\n",
    "lr = lr.fit(train, target)\n",
    "joblib.dump(lr, \"lr.joblib\")\n",
    "with open(\"lr.joblib\", \"rb\") as file:\n",
    "    file =  file.read()\n",
    "    b64model = base64.b64encode(file)\n",
    "    print(b64model)\n",
    "with open(\"model.b64\", \"wb\") as file:\n",
    "    file.write(b64model)"
   ]
  },
  {
   "cell_type": "code",
   "execution_count": 30,
   "id": "71864e52-9369-4e59-ae51-7852b8cb8b58",
   "metadata": {
    "id": "71864e52-9369-4e59-ae51-7852b8cb8b58",
    "tags": []
   },
   "outputs": [
    {
     "name": "stdout",
     "output_type": "stream",
     "text": [
      "Command completed.\n"
     ]
    }
   ],
   "source": [
    "%sql insert into models (name, model) values('iris_lr', 'gASV4wEAAAAAAACMHnNrbGVhcm4ubGluZWFyX21vZGVsLl9sb2dpc3RpY5SMEkxvZ2lzdGljUmVncmVzc2lvbpSTlCmBlH2UKIwHcGVuYWx0eZSMAmwylIwEZHVhbJSJjAN0b2yURz8aNuLrHEMtjAFDlEc/8AAAAAAAAIwNZml0X2ludGVyY2VwdJSIjBFpbnRlcmNlcHRfc2NhbGluZ5RLAYwMY2xhc3Nfd2VpZ2h0lE6MDHJhbmRvbV9zdGF0ZZROjAZzb2x2ZXKUjAVsYmZnc5SMCG1heF9pdGVylE3oA4wLbXVsdGlfY2xhc3OUjARhdXRvlIwHdmVyYm9zZZRLAIwKd2FybV9zdGFydJSJjAZuX2pvYnOUTowIbDFfcmF0aW+UTowObl9mZWF0dXJlc19pbl+USwSMCGNsYXNzZXNflIwTam9ibGliLm51bXB5X3BpY2tsZZSMEU51bXB5QXJyYXlXcmFwcGVylJOUKYGUfZQojAhzdWJjbGFzc5SMBW51bXB5lIwHbmRhcnJheZSTlIwFc2hhcGWUSwOFlIwFb3JkZXKUaAmMBWR0eXBllGgfaCWTlIwCaTiUiYiHlFKUKEsDjAE8lE5OTkr/////Sv////9LAHSUYowKYWxsb3dfbW1hcJSIdWIAAAAAAAAAAAEAAAAAAAAAAgAAAAAAAACVSwAAAAAAAACMB25faXRlcl+UaBspgZR9lChoHmghaCJLAYWUaCRoCWglaCaMAmk0lImIh5RSlChLA2gqTk5OSv////9K/////0sAdJRiaCyIdWKEAAAAlUsAAAAAAAAAjAVjb2VmX5RoGymBlH2UKGgeaCFoIksDSwSGlGgkaAloJWgmjAJmOJSJiIeUUpQoSwNoKk5OTkr/////Sv////9LAHSUYmgsiHVibtEwXFEa279JMT85kvTuP/RnjO4cIwTAxXMjW/FE8b/XOtFzURrhP9onqpovldS/w2gVbgpryr8YMgCHtzfuv0WKxi1Gaby/Wx3qa/qp5L+hvm2VzckFQGzGUY9mMABAlSwAAAAAAAAAjAppbnRlcmNlcHRflGgbKYGUfZQoaB5oIWgiSwOFlGgkaAloJWg7aCyIdWJQSzcJ4bIjQNWnXcDa5QFAVLVOuVcsKMCVHgAAAAAAAACMEF9za2xlYXJuX3ZlcnNpb26UjAUxLjEuMZR1Yi4=')"
   ]
  },
  {
   "cell_type": "code",
   "execution_count": 31,
   "id": "bf63d567-3f07-455f-9734-43921d1c939d",
   "metadata": {
    "id": "bf63d567-3f07-455f-9734-43921d1c939d",
    "tags": []
   },
   "outputs": [
    {
     "data": {
      "text/html": [
       "<div>\n",
       "<style scoped>\n",
       "    .dataframe tbody tr th:only-of-type {\n",
       "        vertical-align: middle;\n",
       "    }\n",
       "\n",
       "    .dataframe tbody tr th {\n",
       "        vertical-align: top;\n",
       "    }\n",
       "\n",
       "    .dataframe thead th {\n",
       "        text-align: right;\n",
       "    }\n",
       "</style>\n",
       "<table border=\"1\" class=\"dataframe\">\n",
       "  <thead>\n",
       "    <tr style=\"text-align: right;\">\n",
       "      <th></th>\n",
       "      <th>ID</th>\n",
       "      <th>NAME</th>\n",
       "      <th>MODEL</th>\n",
       "    </tr>\n",
       "  </thead>\n",
       "  <tbody>\n",
       "    <tr>\n",
       "      <th>0</th>\n",
       "      <td>1</td>\n",
       "      <td>iris_linear</td>\n",
       "      <td>gANjc2tsZWFybi5saW5lYXJfbW9kZWwuX2Jhc2UKTGluZW...</td>\n",
       "    </tr>\n",
       "    <tr>\n",
       "      <th>1</th>\n",
       "      <td>2</td>\n",
       "      <td>iris_lr</td>\n",
       "      <td>gASV4wEAAAAAAACMHnNrbGVhcm4ubGluZWFyX21vZGVsLl...</td>\n",
       "    </tr>\n",
       "  </tbody>\n",
       "</table>\n",
       "</div>"
      ],
      "text/plain": [
       "   ID         NAME                                              MODEL\n",
       "0   1  iris_linear  gANjc2tsZWFybi5saW5lYXJfbW9kZWwuX2Jhc2UKTGluZW...\n",
       "1   2      iris_lr  gASV4wEAAAAAAACMHnNrbGVhcm4ubGluZWFyX21vZGVsLl..."
      ]
     },
     "execution_count": 31,
     "metadata": {},
     "output_type": "execute_result"
    }
   ],
   "source": [
    "%sql select * from models"
   ]
  },
  {
   "cell_type": "code",
   "execution_count": 32,
   "id": "2d3a3ee2-3a80-4998-9592-664cb80804c1",
   "metadata": {
    "id": "2d3a3ee2-3a80-4998-9592-664cb80804c1",
    "tags": []
   },
   "outputs": [
    {
     "data": {
      "text/html": [
       "<p><p style=\"border:2px; border-style:solid; border-color:#FF0000; background-color:#ffe6e6; padding: 1em;\">SQL0454N  The signature provided in the definition for routine \"DB2INST1.IRIS_SCORE\" matches the signature of some other routine.  LINE NUMBER=1.  SQLSTATE=42723 SQLCODE=-454</p>"
      ],
      "text/plain": [
       "<IPython.core.display.HTML object>"
      ]
     },
     "metadata": {},
     "output_type": "display_data"
    },
    {
     "name": "stdout",
     "output_type": "stream",
     "text": [
      "Command completed.\n"
     ]
    }
   ],
   "source": [
    "%sql CREATE FUNCTION iris_score(varchar(1356), float, float, float, float) \\\n",
    "returns float LANGUAGE PYTHON  parameter style \\\n",
    "NPSGENERIC  FENCED  NOT THREADSAFE  NO FINAL CALL  ALLOW PARALLEL  NO DBINFO  DETERMINISTIC  NO EXTERNAL ACTION \\\n",
    "RETURNS NULL ON NULL INPUT  NO SQL \\\n",
    "external name '/home/functions/score.py' "
   ]
  },
  {
   "cell_type": "code",
   "execution_count": 33,
   "id": "b9a3e8bf-bbbb-4a2b-ae77-5aeef5a7b270",
   "metadata": {
    "id": "b9a3e8bf-bbbb-4a2b-ae77-5aeef5a7b270",
    "tags": []
   },
   "outputs": [
    {
     "data": {
      "text/html": [
       "<div>\n",
       "<style scoped>\n",
       "    .dataframe tbody tr th:only-of-type {\n",
       "        vertical-align: middle;\n",
       "    }\n",
       "\n",
       "    .dataframe tbody tr th {\n",
       "        vertical-align: top;\n",
       "    }\n",
       "\n",
       "    .dataframe thead th {\n",
       "        text-align: right;\n",
       "    }\n",
       "</style>\n",
       "<table border=\"1\" class=\"dataframe\">\n",
       "  <thead>\n",
       "    <tr style=\"text-align: right;\">\n",
       "      <th></th>\n",
       "      <th>1</th>\n",
       "    </tr>\n",
       "  </thead>\n",
       "  <tbody>\n",
       "    <tr>\n",
       "      <th>0</th>\n",
       "      <td>0.0</td>\n",
       "    </tr>\n",
       "    <tr>\n",
       "      <th>1</th>\n",
       "      <td>0.0</td>\n",
       "    </tr>\n",
       "    <tr>\n",
       "      <th>2</th>\n",
       "      <td>0.0</td>\n",
       "    </tr>\n",
       "    <tr>\n",
       "      <th>3</th>\n",
       "      <td>0.0</td>\n",
       "    </tr>\n",
       "    <tr>\n",
       "      <th>4</th>\n",
       "      <td>0.0</td>\n",
       "    </tr>\n",
       "    <tr>\n",
       "      <th>5</th>\n",
       "      <td>0.0</td>\n",
       "    </tr>\n",
       "    <tr>\n",
       "      <th>6</th>\n",
       "      <td>0.0</td>\n",
       "    </tr>\n",
       "  </tbody>\n",
       "</table>\n",
       "</div>"
      ],
      "text/plain": [
       "     1\n",
       "0  0.0\n",
       "1  0.0\n",
       "2  0.0\n",
       "3  0.0\n",
       "4  0.0\n",
       "5  0.0\n",
       "6  0.0"
      ]
     },
     "execution_count": 33,
     "metadata": {},
     "output_type": "execute_result"
    }
   ],
   "source": [
    "%sql with input (model, sepal_length, sepal_width, petal_length, petal_width) as \\\n",
    "(select varchar(models.model), iris.sepal_length, iris.sepal_width, iris.petal_length, iris.petal_width \\\n",
    "from models, iris \\\n",
    "where models.id =(select id from models where name='iris_lr')) \\\n",
    "select iris_score(varchar(model), float(sepal_length), float(sepal_width), float(petal_length), float(petal_width) ) from input"
   ]
  },
  {
   "cell_type": "code",
   "execution_count": null,
   "id": "14c0de8d-bd93-4df2-aad6-8fa37af3d45b",
   "metadata": {
    "id": "14c0de8d-bd93-4df2-aad6-8fa37af3d45b"
   },
   "outputs": [],
   "source": [
    "%sql drop table models"
   ]
  },
  {
   "cell_type": "code",
   "execution_count": null,
   "id": "72fcf505-f998-42b1-81f8-fd9165f0c602",
   "metadata": {
    "id": "72fcf505-f998-42b1-81f8-fd9165f0c602"
   },
   "outputs": [],
   "source": [
    "%sql drop function iris_linear"
   ]
  },
  {
   "cell_type": "code",
   "execution_count": null,
   "id": "326dc0c7-378d-4465-b1c9-be744c50795f",
   "metadata": {
    "id": "326dc0c7-378d-4465-b1c9-be744c50795f"
   },
   "outputs": [],
   "source": [
    "%sql drop table iris"
   ]
  }
 ],
 "metadata": {
  "kernelspec": {
   "display_name": "Python 3.10",
   "language": "python",
   "name": "python3"
  },
  "language_info": {
   "codemirror_mode": {
    "name": "ipython",
    "version": 3
   },
   "file_extension": ".py",
   "mimetype": "text/x-python",
   "name": "python",
   "nbconvert_exporter": "python",
   "pygments_lexer": "ipython3",
   "version": "3.10.6"
  }
 },
 "nbformat": 4,
 "nbformat_minor": 5
}
