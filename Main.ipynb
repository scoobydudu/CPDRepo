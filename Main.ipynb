{
 "cells": [
  {
   "cell_type": "code",
   "execution_count": 1,
   "id": "ec69b805-3365-4059-a7f6-1d32e85c6207",
   "metadata": {
    "id": "b115370e-cc61-4aeb-8863-382bbd98eddf",
    "tags": []
   },
   "outputs": [],
   "source": [
    "import helpers as hlp"
   ]
  },
  {
   "cell_type": "code",
   "execution_count": 2,
   "id": "784c5cda-77be-438c-ba4b-02757d8da93a",
   "metadata": {
    "id": "784c5cda-77be-438c-ba4b-02757d8da93a",
    "tags": []
   },
   "outputs": [
    {
     "name": "stdout",
     "output_type": "stream",
     "text": [
      "Hello again Stephen\n"
     ]
    }
   ],
   "source": [
    "print(hlp.myHelper(\"Stephen\"))"
   ]
  },
  {
   "cell_type": "code",
   "execution_count": null,
   "id": "97dc44ac-f9fd-4eab-96a5-70e122b51f14",
   "metadata": {
    "id": "97dc44ac-f9fd-4eab-96a5-70e122b51f14"
   },
   "outputs": [],
   "source": []
  }
 ],
 "metadata": {
  "kernelspec": {
   "display_name": "Python 3.10",
   "language": "python",
   "name": "python3"
  },
  "language_info": {
   "codemirror_mode": {
    "name": "ipython",
    "version": 3
   },
   "file_extension": ".py",
   "mimetype": "text/x-python",
   "name": "python",
   "nbconvert_exporter": "python",
   "pygments_lexer": "ipython3",
   "version": "3.10.6"
  }
 },
 "nbformat": 4,
 "nbformat_minor": 5
}
